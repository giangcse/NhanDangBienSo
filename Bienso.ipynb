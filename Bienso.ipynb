{
  "nbformat": 4,
  "nbformat_minor": 0,
  "metadata": {
    "colab": {
      "name": "Bienso.ipynb",
      "provenance": [],
      "private_outputs": true,
      "collapsed_sections": [],
      "machine_shape": "hm",
      "include_colab_link": true
    },
    "kernelspec": {
      "name": "python3",
      "display_name": "Python 3"
    },
    "accelerator": "GPU"
  },
  "cells": [
    {
      "cell_type": "markdown",
      "metadata": {
        "id": "view-in-github",
        "colab_type": "text"
      },
      "source": [
        "<a href=\"https://colab.research.google.com/github/giangcse/NhanDangBienSo/blob/master/Bienso.ipynb\" target=\"_parent\"><img src=\"https://colab.research.google.com/assets/colab-badge.svg\" alt=\"Open In Colab\"/></a>"
      ]
    },
    {
      "cell_type": "markdown",
      "metadata": {
        "id": "g5RGDgEgRv4_",
        "colab_type": "text"
      },
      "source": [
        "Test (co the bo qua) neu bao loi thi chinh runtime lai GPU, HIGH RAM"
      ]
    },
    {
      "cell_type": "code",
      "metadata": {
        "id": "iKqohcr9RzHN",
        "colab_type": "code",
        "colab": {}
      },
      "source": [
        "import tensorflow as tf\n",
        "device_name = tf.test.gpu_device_name()\n",
        "if device_name != '/device:GPU:0':\n",
        "  raise SystemError('GPU device not found')\n",
        "print('Found GPU at: {}'.format(device_name))"
      ],
      "execution_count": 0,
      "outputs": []
    },
    {
      "cell_type": "markdown",
      "metadata": {
        "id": "TuwDuRYbSDlk",
        "colab_type": "text"
      },
      "source": [
        "Mount dia ra drive"
      ]
    },
    {
      "cell_type": "code",
      "metadata": {
        "id": "bnMsA9nySFp1",
        "colab_type": "code",
        "colab": {}
      },
      "source": [
        "from google.colab import drive\n",
        "drive.mount('/content/gdrive')"
      ],
      "execution_count": 0,
      "outputs": []
    },
    {
      "cell_type": "code",
      "metadata": {
        "id": "VotSkQ0-SYwl",
        "colab_type": "code",
        "colab": {}
      },
      "source": [
        "%cd '/content/gdrive/My Drive/'"
      ],
      "execution_count": 0,
      "outputs": []
    },
    {
      "cell_type": "code",
      "metadata": {
        "id": "TINShqt1SfiN",
        "colab_type": "code",
        "colab": {}
      },
      "source": [
        "!mkdir 'tf'\n",
        "%cd 'tf'"
      ],
      "execution_count": 0,
      "outputs": []
    },
    {
      "cell_type": "markdown",
      "metadata": {
        "id": "TIjBbf3xSocQ",
        "colab_type": "text"
      },
      "source": [
        "Clone models"
      ]
    },
    {
      "cell_type": "code",
      "metadata": {
        "id": "GN6H-EKXSp1L",
        "colab_type": "code",
        "colab": {}
      },
      "source": [
        "!git clone https://github.com/tensorflow/models.git\n",
        "!git clone https://github.com/cocodataset/cocoapi.git\n",
        "!cd cocoapi/PythonAPI; make; cp -r pycocotools '/content/gdrive/My Drive/tf/models/research/'"
      ],
      "execution_count": 0,
      "outputs": []
    },
    {
      "cell_type": "code",
      "metadata": {
        "id": "7JYccD00TVhF",
        "colab_type": "code",
        "colab": {}
      },
      "source": [
        "!pwd"
      ],
      "execution_count": 0,
      "outputs": []
    },
    {
      "cell_type": "markdown",
      "metadata": {
        "id": "6UEpN7JKToq8",
        "colab_type": "text"
      },
      "source": [
        "Cai dat 1 so modules can thiet"
      ]
    },
    {
      "cell_type": "code",
      "metadata": {
        "id": "vgNaBEhYTqqZ",
        "colab_type": "code",
        "colab": {}
      },
      "source": [
        "!apt-get install protobuf-compiler python-pil python-lxml python-tk\n",
        "!pip install Cython"
      ],
      "execution_count": 0,
      "outputs": []
    },
    {
      "cell_type": "markdown",
      "metadata": {
        "id": "AkdRpZb8Trce",
        "colab_type": "text"
      },
      "source": [
        "Compile no raaaaaa"
      ]
    },
    {
      "cell_type": "code",
      "metadata": {
        "id": "ba46oTozTuEm",
        "colab_type": "code",
        "colab": {}
      },
      "source": [
        "%cd '/content/gdrive/My Drive/tf/models/research/'\n",
        "!protoc object_detection/protos/*.proto --python_out=."
      ],
      "execution_count": 0,
      "outputs": []
    },
    {
      "cell_type": "markdown",
      "metadata": {
        "id": "NRLcg6wYUBOt",
        "colab_type": "text"
      },
      "source": [
        "Cai bien moi truong"
      ]
    },
    {
      "cell_type": "code",
      "metadata": {
        "id": "huyMKcCyUEUN",
        "colab_type": "code",
        "colab": {}
      },
      "source": [
        "import os\n",
        "os.environ['PYTHONPATH'] += ':/content/gdrive/My Drive/tf/models/research/:/content/gdrive/My Drive/tf/models/research/slim'"
      ],
      "execution_count": 0,
      "outputs": []
    },
    {
      "cell_type": "markdown",
      "metadata": {
        "id": "ddk4nMemUN9p",
        "colab_type": "text"
      },
      "source": [
        "Setup no!!!!!!!!!!!!!!!!!!!!"
      ]
    },
    {
      "cell_type": "code",
      "metadata": {
        "id": "yaeGxyxIUSR2",
        "colab_type": "code",
        "colab": {}
      },
      "source": [
        "!python setup.py build\n",
        "!python setup.py install"
      ],
      "execution_count": 0,
      "outputs": []
    },
    {
      "cell_type": "markdown",
      "metadata": {
        "id": "o1I7n4NQVe2n",
        "colab_type": "text"
      },
      "source": [
        "Chay neu muon coi con bao nhieu tieng con lai"
      ]
    },
    {
      "cell_type": "code",
      "metadata": {
        "id": "RkxXZspSVhUZ",
        "colab_type": "code",
        "colab": {}
      },
      "source": [
        "import time, psutil\n",
        "Start = time.time()- psutil.boot_time()\n",
        "Left= 24*3600 - Start\n",
        "print('Time remaining for this session is: ', Left/3600)"
      ],
      "execution_count": 0,
      "outputs": []
    },
    {
      "cell_type": "markdown",
      "metadata": {
        "id": "6eZVUwOlViem",
        "colab_type": "text"
      },
      "source": [
        "Test cai dat, neu duoc la [ OK ] heets"
      ]
    },
    {
      "cell_type": "code",
      "metadata": {
        "id": "20bD7rR7VnlA",
        "colab_type": "code",
        "colab": {}
      },
      "source": [
        "!python object_detection/builders/model_builder_test.py"
      ],
      "execution_count": 0,
      "outputs": []
    },
    {
      "cell_type": "markdown",
      "metadata": {
        "id": "V5ji8IgaV3TI",
        "colab_type": "text"
      },
      "source": [
        "Chuyen toi thu muc object_detection de clone cai khac ve\n"
      ]
    },
    {
      "cell_type": "code",
      "metadata": {
        "id": "sPl8CWIhWlAQ",
        "colab_type": "code",
        "colab": {}
      },
      "source": [
        "%cd 'object_detection'"
      ],
      "execution_count": 0,
      "outputs": []
    },
    {
      "cell_type": "code",
      "metadata": {
        "id": "RaXhFqIwV7Lp",
        "colab_type": "code",
        "colab": {}
      },
      "source": [
        "!git clone https://github.com/EdjeElectronics/TensorFlow-Object-Detection-API-Tutorial-Train-Multiple-Objects-Windows-10.git"
      ],
      "execution_count": 0,
      "outputs": []
    },
    {
      "cell_type": "markdown",
      "metadata": {
        "id": "dnB5CJwhWb5Y",
        "colab_type": "text"
      },
      "source": [
        ""
      ]
    },
    {
      "cell_type": "markdown",
      "metadata": {
        "id": "5sg7Ly00Zm8K",
        "colab_type": "text"
      },
      "source": [
        "trainnnnnnnnnnnnnnnnnnnnnnnnnnnnnnnnnn"
      ]
    },
    {
      "cell_type": "code",
      "metadata": {
        "id": "3VNEIMhO0k8L",
        "colab_type": "code",
        "colab": {}
      },
      "source": [
        "!python legacy/train.py --logtostderr --train_dir=training/ --pipeline_config_path=training/faster_rcnn_inception_v2_pets.config"
      ],
      "execution_count": 0,
      "outputs": []
    },
    {
      "cell_type": "markdown",
      "metadata": {
        "id": "Do4S0n-X3OyZ",
        "colab_type": "text"
      },
      "source": [
        "TensorBoard (Nên chạy trước khi train vì colab chạy theo thứ tự, cái trên chạy xong mới tới cái dưới)"
      ]
    },
    {
      "cell_type": "code",
      "metadata": {
        "id": "f6pPp7Ds3QhH",
        "colab_type": "code",
        "colab": {}
      },
      "source": [
        "LOG_DIR = 'training'\n",
        "get_ipython().system_raw(\n",
        "    'tensorboard --logdir {} --host 0.0.0.0 --port 6006 &'\n",
        "    .format(LOG_DIR)\n",
        ")\n",
        "# Install\n",
        "! npm install -g localtunnel\n",
        "! npm i -g npm\n",
        "# Tunnel port 6006 (TensorBoard assumed running)\n",
        "get_ipython().system_raw('lt --port 6006 >> url1.txt 2>&1 &')\n",
        "# Get url\n",
        "! cat url1.txt"
      ],
      "execution_count": 0,
      "outputs": []
    }
  ]
}